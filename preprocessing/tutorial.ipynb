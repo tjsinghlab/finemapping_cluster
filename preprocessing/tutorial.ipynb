{
 "cells": [
  {
   "cell_type": "markdown",
   "metadata": {},
   "source": [
    "# Fine-Mapping Preprocessing\n",
    "\n",
    "Jupyter Noteboook Tutorial\n",
    "\n",
    "https://jupyter.org/install"
   ]
  },
  {
   "cell_type": "code",
   "execution_count": null,
   "metadata": {},
   "outputs": [],
   "source": [
    "!pip3 install -r requirements.txt"
   ]
  },
  {
   "cell_type": "code",
   "execution_count": 61,
   "metadata": {},
   "outputs": [],
   "source": [
    "import os, glob\n",
    "import pandas as pd\n",
    "import importlib\n",
    "\n",
    "import preprocessing\n",
    "import cols\n",
    "importlib.reload(cols)\n",
    "importlib.reload(preprocessing)\n",
    "\n",
    "from cols import Cols\n",
    "from preprocessing import Preprocess"
   ]
  },
  {
   "cell_type": "markdown",
   "metadata": {},
   "source": [
    "## Setup API endpoint for GPT integration\n",
    "\n",
    "### Run the following commands in your terminal:\n",
    "OpenAI not free\n",
    "\n",
    "`$ export OPENAI_ORGANIZATION='<KEY>'`        # https://platform.openai.com/settings/organization/general\n",
    "\n",
    "`$ export OPENAI_PROJECT='<KEY>'`             # https://platform.openai.com/settings/ -> project\n",
    "\n",
    "`$ export OPENAI_API_KEY='<KEY>'`             # https://platform.openai.com/settings/profile?tab=api-keys"
   ]
  },
  {
   "cell_type": "code",
   "execution_count": null,
   "metadata": {},
   "outputs": [],
   "source": [
    "from openai import OpenAI\n",
    "\n",
    "organization = os.getenv('OPENAI_ORGANIZATION')\n",
    "project = os.getenv('OPENAI_PROJECT')\n",
    "api_key = os.getenv('OPENAI_API_KEY')\n",
    "\n",
    "openai_client = OpenAI(\n",
    "    organization = organization,\n",
    "    project = project,\n",
    "    api_key = api_key\n",
    ")"
   ]
  },
  {
   "cell_type": "markdown",
   "metadata": {},
   "source": [
    "Alternatively:\n",
    "\n",
    "`$ export OPENAI_API_KEY='<KEY>'` # Gemini API https://ai.google.dev/gemini-api/docs/api-key: FREE @ 15 RPM"
   ]
  },
  {
   "cell_type": "code",
   "execution_count": null,
   "metadata": {},
   "outputs": [],
   "source": [
    "from openai import OpenAI\n",
    "import google.generativeai as genai\n",
    "\n",
    "genai.configure(api_key = os.getenv('GEMINI_API_KEY'))\n",
    "client = genai.GenerativeModel('gemini-pro')"
   ]
  },
  {
   "cell_type": "markdown",
   "metadata": {},
   "source": [
    "## Use path to folder containing your various sumstats files\n",
    "\n",
    "Verify these paths are correct"
   ]
  },
  {
   "cell_type": "code",
   "execution_count": null,
   "metadata": {},
   "outputs": [],
   "source": [
    "directory_of_sumstats = '/gpfs/commons/groups/sanjana_lab/mdrabkin/gwas_data/raw/European' # YOUR INPUT PATH\n",
    "my_input_folder = glob.glob(directory_of_sumstats + '/*')\n",
    "\n",
    "for path in my_input_folder:\n",
    "    print(path)\n",
    "\n",
    "output_directory = '~' # YOUR OUTPUT PATH\n",
    "\n",
    "len(my_input_folder)"
   ]
  },
  {
   "cell_type": "markdown",
   "metadata": {},
   "source": [
    "# Instantiate Preprocess class with your \n",
    "    - GPT client\n",
    "    - Directory where you want output files located"
   ]
  },
  {
   "cell_type": "code",
   "execution_count": null,
   "metadata": {},
   "outputs": [],
   "source": [
    "from preprocessing import Preprocess\n",
    "\n",
    "ft = Preprocess(\n",
    "    client=openai_client, \n",
    "    out_dir=output_directory\n",
    ")\n",
    "\n",
    "# optional parameters\n",
    "ft.significance_threshold = 5e-8 # default value is already 5e-8\n",
    "ft.ancestry = 'EUR' # default value is 'EUR' but can be statically\n",
    "# changed here or dynamically changed in the loop below.\n",
    "# Ancestry may play a role in GPT's selection of a column, e.g., say there\n",
    "# are two pval columns (1) pval_afr (2) pval_eur, then GPT will select\n",
    "# the column matching the ancestry variable set by user."
   ]
  },
  {
   "cell_type": "markdown",
   "metadata": {},
   "source": [
    "## Run a MANUAL example or batch"
   ]
  },
  {
   "cell_type": "code",
   "execution_count": 62,
   "metadata": {},
   "outputs": [],
   "source": [
    "genai.configure(api_key = os.getenv('GEMINI_API_KEY'))\n",
    "client = genai.GenerativeModel('gemini-pro')"
   ]
  },
  {
   "cell_type": "code",
   "execution_count": 63,
   "metadata": {},
   "outputs": [],
   "source": [
    "ft = Preprocess(\n",
    "    client = client, \n",
    "    out_dir = output_directory\n",
    ")"
   ]
  },
  {
   "cell_type": "code",
   "execution_count": 64,
   "metadata": {},
   "outputs": [],
   "source": [
    "files = iter(my_input_folder)"
   ]
  },
  {
   "cell_type": "code",
   "execution_count": 65,
   "metadata": {},
   "outputs": [
    {
     "data": {
      "text/plain": [
       "'/gpfs/commons/groups/sanjana_lab/mdrabkin/gwas_data/raw/European/GCST90000583_buildGRCh37.tsv'"
      ]
     },
     "execution_count": 65,
     "metadata": {},
     "output_type": "execute_result"
    }
   ],
   "source": [
    "fp = next(files)\n",
    "fp"
   ]
  },
  {
   "cell_type": "code",
   "execution_count": 66,
   "metadata": {},
   "outputs": [
    {
     "data": {
      "text/plain": [
       "['p_value',\n",
       " 'chromosome',\n",
       " 'base_pair_location',\n",
       " 'effect_allele',\n",
       " 'other_allele',\n",
       " 'effect_allele_frequency',\n",
       " 'odds_ratio',\n",
       " 'beta',\n",
       " 'standard_error',\n",
       " 'markername',\n",
       " 'freqse',\n",
       " 'minfreq',\n",
       " 'maxfreq',\n",
       " 'direction',\n",
       " 'hetisq',\n",
       " 'hetchisq',\n",
       " 'hetdf',\n",
       " 'hetpval',\n",
       " 'cases',\n",
       " 'effective_cases',\n",
       " 'n',\n",
       " 'meta_analysis']"
      ]
     },
     "execution_count": 66,
     "metadata": {},
     "output_type": "execute_result"
    }
   ],
   "source": [
    "ft.get_columns(path)"
   ]
  },
  {
   "cell_type": "code",
   "execution_count": 67,
   "metadata": {},
   "outputs": [
    {
     "data": {
      "text/plain": [
       "['chromosome',\n",
       " 'base_pair_location',\n",
       " 'effect_allele',\n",
       " 'other_allele',\n",
       " 'beta',\n",
       " 'standard_error',\n",
       " 'p_value']"
      ]
     },
     "execution_count": 67,
     "metadata": {},
     "output_type": "execute_result"
    }
   ],
   "source": [
    "ft.suggest_columns(path)"
   ]
  },
  {
   "cell_type": "code",
   "execution_count": 68,
   "metadata": {},
   "outputs": [],
   "source": [
    "cols = ['chromosome',\n",
    " 'base_pair_location',\n",
    " 'effect_allele',\n",
    " 'other_allele',\n",
    " 'beta',\n",
    " 'standard_error',\n",
    " 'p_value'\n",
    "]"
   ]
  },
  {
   "cell_type": "code",
   "execution_count": null,
   "metadata": {},
   "outputs": [],
   "source": [
    "ft.loadmap_sumstats_table(path, manual_columns = cols, verbose = True)"
   ]
  },
  {
   "cell_type": "code",
   "execution_count": null,
   "metadata": {},
   "outputs": [],
   "source": [
    "ft.create_leadsnp_table(verbose = True)"
   ]
  },
  {
   "cell_type": "code",
   "execution_count": null,
   "metadata": {},
   "outputs": [],
   "source": []
  },
  {
   "cell_type": "markdown",
   "metadata": {
    "jp-MarkdownHeadingCollapsed": true
   },
   "source": [
    "## Run an AUTOMATIC example"
   ]
  },
  {
   "cell_type": "code",
   "execution_count": null,
   "metadata": {},
   "outputs": [],
   "source": [
    "fp = '/gpfs/commons/groups/sanjana_lab/mdrabkin/gwas_data/raw/European/GCST90104541_buildGRCh37.tsv.gz'"
   ]
  },
  {
   "cell_type": "code",
   "execution_count": null,
   "metadata": {},
   "outputs": [],
   "source": [
    "res = ft.loadmap_sumstats_table(\n",
    "    fp,\n",
    "    verbose=True)"
   ]
  },
  {
   "cell_type": "code",
   "execution_count": null,
   "metadata": {},
   "outputs": [],
   "source": [
    "ft.create_leadsnp_table(verbose=True)"
   ]
  },
  {
   "cell_type": "markdown",
   "metadata": {
    "jp-MarkdownHeadingCollapsed": true
   },
   "source": [
    "## Run a batch"
   ]
  },
  {
   "cell_type": "code",
   "execution_count": null,
   "metadata": {},
   "outputs": [],
   "source": [
    "for path in my_input_folder[::]:\n",
    "\n",
    "    print(f'==> {path}')\n",
    "\n",
    "    try:\n",
    "\n",
    "        res = ft.loadmap_sumstats_table(\n",
    "            path,\n",
    "            verbose=False)\n",
    "        \n",
    "        if res != 0:\n",
    "            continue\n",
    "\n",
    "        ft.create_leadsnp_table(verbose=False)\n",
    "\n",
    "    except:\n",
    "        print(\"SKIPPING due to error\")\n",
    "     "
   ]
  }
 ],
 "metadata": {
  "kernelspec": {
   "display_name": "Python 3 (ipykernel)",
   "language": "python",
   "name": "python3"
  },
  "language_info": {
   "codemirror_mode": {
    "name": "ipython",
    "version": 3
   },
   "file_extension": ".py",
   "mimetype": "text/x-python",
   "name": "python",
   "nbconvert_exporter": "python",
   "pygments_lexer": "ipython3",
   "version": "3.12.2"
  }
 },
 "nbformat": 4,
 "nbformat_minor": 4
}
