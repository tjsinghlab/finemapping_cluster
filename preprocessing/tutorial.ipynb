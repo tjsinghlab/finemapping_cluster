{
 "cells": [
  {
   "cell_type": "markdown",
   "metadata": {},
   "source": [
    "# Fine-Mapping Preprocessing\n",
    "\n",
    "Jupyter Noteboook Tutorial\n",
    "\n",
    "https://jupyter.org/install\n",
    "```\n",
    "$ jupyter lab\n",
    "```\n",
    "port forwarding on your local machine:\n",
    "```\n",
    "$ ssh username@xx.xx.xx.xx -NL 8888:localhost:8888\n",
    "```"
   ]
  },
  {
   "cell_type": "code",
   "execution_count": null,
   "metadata": {},
   "outputs": [],
   "source": [
    "!pip3 install -r requirements.txt  # if needed"
   ]
  },
  {
   "cell_type": "code",
   "execution_count": 4,
   "metadata": {},
   "outputs": [],
   "source": [
    "import os, glob\n",
    "import pandas as pd\n",
    "import importlib\n",
    "\n",
    "import preprocessing\n",
    "import cols\n",
    "importlib.reload(cols)\n",
    "importlib.reload(preprocessing)\n",
    "\n",
    "from cols import Cols\n",
    "from preprocessing import Preprocess"
   ]
  },
  {
   "cell_type": "markdown",
   "metadata": {},
   "source": [
    "## Setup API endpoint for GPT integration\n",
    "\n",
    "\n",
    "#### OpenAI \n",
    "not free\n",
    "\n",
    "Run the following commands in your terminal:\n",
    "\n",
    "`$ export OPENAI_ORGANIZATION='<KEY>'`        # https://platform.openai.com/settings/organization/general\n",
    "\n",
    "`$ export OPENAI_PROJECT='<KEY>'`             # https://platform.openai.com/settings/ -> project\n",
    "\n",
    "`$ export OPENAI_API_KEY='<KEY>'`             # https://platform.openai.com/settings/profile?tab=api-keys"
   ]
  },
  {
   "cell_type": "code",
   "execution_count": null,
   "metadata": {},
   "outputs": [],
   "source": [
    "from openai import OpenAI\n",
    "\n",
    "organization = os.getenv('OPENAI_ORGANIZATION')\n",
    "project = os.getenv('OPENAI_PROJECT')\n",
    "api_key = os.getenv('OPENAI_API_KEY')\n",
    "\n",
    "openai_client = OpenAI(\n",
    "    organization = organization,\n",
    "    project = project,\n",
    "    api_key = api_key\n",
    ")"
   ]
  },
  {
   "cell_type": "markdown",
   "metadata": {},
   "source": [
    "Alternatively:\n",
    "\n",
    "#### Google Gemini\n",
    "\n",
    "`$ export OPENAI_API_KEY='<KEY>'` # Gemini API https://ai.google.dev/gemini-api/docs/api-key: FREE @ 15 RPM"
   ]
  },
  {
   "cell_type": "code",
   "execution_count": 9,
   "metadata": {},
   "outputs": [],
   "source": [
    "import google.generativeai as genai\n",
    "\n",
    "genai.configure(api_key = os.getenv('GEMINI_API_KEY'))\n",
    "client = genai.GenerativeModel('gemini-pro')"
   ]
  },
  {
   "cell_type": "markdown",
   "metadata": {},
   "source": [
    "## To gather all of your files\n",
    "\n",
    "Use the path to folder containing your various sumstats files\n",
    "\n",
    "Verify these paths are correct"
   ]
  },
  {
   "cell_type": "code",
   "execution_count": 38,
   "metadata": {},
   "outputs": [
    {
     "name": "stdout",
     "output_type": "stream",
     "text": [
      "/gpfs/commons/groups/sanjana_lab/mdrabkin/gwas_data/raw/European/GCST90000583_buildGRCh37.tsv\n",
      "/gpfs/commons/groups/sanjana_lab/mdrabkin/gwas_data/raw/European/GCST007228_buildGRCh37.tsv\n",
      "/gpfs/commons/groups/sanjana_lab/mdrabkin/gwas_data/raw/European/GCST90092930_buildGRCh37.tsv\n",
      "/gpfs/commons/groups/sanjana_lab/mdrabkin/gwas_data/raw/European/GCST90092856_buildGRCh37.tsv.gz\n",
      "/gpfs/commons/groups/sanjana_lab/mdrabkin/gwas_data/raw/European/GCST90086092_buildGRCh37.tsv\n",
      "/gpfs/commons/groups/sanjana_lab/mdrabkin/gwas_data/raw/European/GCST007545_buildGRCh37.txt\n",
      "/gpfs/commons/groups/sanjana_lab/mdrabkin/gwas_data/raw/European/GCST006906_buildGRCh37.tsv\n",
      "/gpfs/commons/groups/sanjana_lab/mdrabkin/gwas_data/raw/European/GCST90014122_buildGRCh37.tsv\n",
      "/gpfs/commons/groups/sanjana_lab/mdrabkin/gwas_data/raw/European/GCST90092916_buildGRCh37.tsv.gz\n",
      "/gpfs/commons/groups/sanjana_lab/mdrabkin/gwas_data/raw/European/GCST90092844_buildGRCh37.tsv.gz\n",
      "/gpfs/commons/groups/sanjana_lab/mdrabkin/gwas_data/raw/European/GCST010774_buildGRCh37.tsv\n",
      "/gpfs/commons/groups/sanjana_lab/mdrabkin/gwas_data/raw/European/GCST90092831_buildGRCh37.tsv.gz\n",
      "/gpfs/commons/groups/sanjana_lab/mdrabkin/gwas_data/raw/European/GCST90043954_buildGRCh37.tsv.gz\n",
      "/gpfs/commons/groups/sanjana_lab/mdrabkin/gwas_data/raw/European/GCST90086091_buildGRCh37.tsv\n",
      "/gpfs/commons/groups/sanjana_lab/mdrabkin/gwas_data/raw/European/GCST90092904_buildGRCh37.tsv.gz\n",
      "/gpfs/commons/groups/sanjana_lab/mdrabkin/gwas_data/raw/European/GCST90025953_buildGRCh37.tsv\n",
      "/gpfs/commons/groups/sanjana_lab/mdrabkin/gwas_data/raw/European/GCST90014243_buildGRCh37.tsv\n",
      "/gpfs/commons/groups/sanjana_lab/mdrabkin/gwas_data/raw/European/GCST90086077_buildGRCh37.tsv\n",
      "/gpfs/commons/groups/sanjana_lab/mdrabkin/gwas_data/raw/European/GCST90245878_buildGRCh37.tsv.gz\n",
      "/gpfs/commons/groups/sanjana_lab/mdrabkin/gwas_data/raw/European/GCST90269905_buildGRCh37.tsv.gz\n",
      "/gpfs/commons/groups/sanjana_lab/mdrabkin/gwas_data/raw/European/GCST90104543_buildGRCh37.tsv.gz\n",
      "/gpfs/commons/groups/sanjana_lab/mdrabkin/gwas_data/raw/European/GCST90026612_buildGRCh37.tsv\n",
      "/gpfs/commons/groups/sanjana_lab/mdrabkin/gwas_data/raw/European/GCST006910_buildGRCh37.tsv\n",
      "/gpfs/commons/groups/sanjana_lab/mdrabkin/gwas_data/raw/European/GCST90093050_buildGRCh37.tsv.gz\n",
      "/gpfs/commons/groups/sanjana_lab/mdrabkin/gwas_data/raw/European/GCST90092892_buildGRCh37.tsv.gz\n",
      "/gpfs/commons/groups/sanjana_lab/mdrabkin/gwas_data/raw/European/GCST90086137_buildGRCh37.tsv\n",
      "/gpfs/commons/groups/sanjana_lab/mdrabkin/gwas_data/raw/European/GCST90093040_buildGRCh37.tsv.gz\n",
      "/gpfs/commons/groups/sanjana_lab/mdrabkin/gwas_data/raw/European/GCST90000582_buildGRCh37.tsv\n",
      "/gpfs/commons/groups/sanjana_lab/mdrabkin/gwas_data/raw/European/GCST009541_buildGRCh37.gz\n",
      "/gpfs/commons/groups/sanjana_lab/mdrabkin/gwas_data/raw/European/GCST009248_buildGRCh37.txt\n",
      "/gpfs/commons/groups/sanjana_lab/mdrabkin/gwas_data/raw/European/GCST90043957_buildGRCh37.tsv.gz\n",
      "/gpfs/commons/groups/sanjana_lab/mdrabkin/gwas_data/raw/European/GCST90104541_buildGRCh37.tsv.gz\n",
      "/gpfs/commons/groups/sanjana_lab/mdrabkin/gwas_data/raw/European/GCST90239676_buildGRCh37.tsv\n",
      "/gpfs/commons/groups/sanjana_lab/mdrabkin/gwas_data/raw/European/GCST009249_buildGRCh37.txt\n",
      "/gpfs/commons/groups/sanjana_lab/mdrabkin/gwas_data/raw/European/GCST90093016_buildGRCh37.tsv.gz\n",
      "/gpfs/commons/groups/sanjana_lab/mdrabkin/gwas_data/raw/European/GCST90092868_buildGRCh37.tsv.gz\n",
      "/gpfs/commons/groups/sanjana_lab/mdrabkin/gwas_data/raw/European/GCST90269497_buildGRCh37.tsv.gz\n",
      "/gpfs/commons/groups/sanjana_lab/mdrabkin/gwas_data/raw/European/GCST006907_buildGRCh37.tsv\n",
      "/gpfs/commons/groups/sanjana_lab/mdrabkin/gwas_data/raw/European/GCST90027266_buildGRCh37.tsv\n",
      "/gpfs/commons/groups/sanjana_lab/mdrabkin/gwas_data/raw/European/GCST90269616_buildGRCh37.tsv.gz\n",
      "/gpfs/commons/groups/sanjana_lab/mdrabkin/gwas_data/raw/European/GCST90274723_buildGRCh37.tsv\n",
      "/gpfs/commons/groups/sanjana_lab/mdrabkin/gwas_data/raw/European/GCST011365_buildGRCh37.tsv\n",
      "/gpfs/commons/groups/sanjana_lab/mdrabkin/gwas_data/raw/European/GCST90093004_buildGRCh37.tsv.gz\n",
      "/gpfs/commons/groups/sanjana_lab/mdrabkin/gwas_data/raw/European/GCST90269904_buildGRCh37.tsv.gz\n",
      "/gpfs/commons/groups/sanjana_lab/mdrabkin/gwas_data/raw/European/GCST90092944_buildGRCh37.tsv.gz\n",
      "/gpfs/commons/groups/sanjana_lab/mdrabkin/gwas_data/raw/European/GCST009250_buildGRCh37.txt\n",
      "/gpfs/commons/groups/sanjana_lab/mdrabkin/gwas_data/raw/European/GCST90086134_buildGRCh37.tsv\n",
      "/gpfs/commons/groups/sanjana_lab/mdrabkin/gwas_data/raw/European/GCST90271714_buildGRCh37.tsv\n",
      "/gpfs/commons/groups/sanjana_lab/mdrabkin/gwas_data/raw/European/GCST90092985_buildGRCh37.tsv.gz\n",
      "/gpfs/commons/groups/sanjana_lab/mdrabkin/gwas_data/raw/European/GCST90269498_buildGRCh37.tsv.gz\n",
      "/gpfs/commons/groups/sanjana_lab/mdrabkin/gwas_data/raw/European/GCST90013537_buildGRCh37.tsv\n",
      "/gpfs/commons/groups/sanjana_lab/mdrabkin/gwas_data/raw/European/GCST90093028_buildGRCh37.tsv.gz\n",
      "/gpfs/commons/groups/sanjana_lab/mdrabkin/gwas_data/raw/European/GCST90092956_buildGRCh37.tsv.gz\n",
      "/gpfs/commons/groups/sanjana_lab/mdrabkin/gwas_data/raw/European/GCST90310293_buildGRCh37.tsv.gz\n",
      "/gpfs/commons/groups/sanjana_lab/mdrabkin/gwas_data/raw/European/GCST90092968_buildGRCh37.tsv.gz\n",
      "/gpfs/commons/groups/sanjana_lab/mdrabkin/gwas_data/raw/European/GCST90239664_buildGRCh37.tsv\n",
      "/gpfs/commons/groups/sanjana_lab/mdrabkin/gwas_data/raw/European/GCST90132315_buildGRCh37.tsv\n",
      "/gpfs/commons/groups/sanjana_lab/mdrabkin/gwas_data/raw/European/GCST90043977_buildGRCh37.tsv.gz\n",
      "/gpfs/commons/groups/sanjana_lab/mdrabkin/gwas_data/raw/European/GCST90104542_buildGRCh37.tsv.gz\n",
      "/gpfs/commons/groups/sanjana_lab/mdrabkin/gwas_data/raw/European/GCST90271713_buildGRCh37.tsv\n",
      "/gpfs/commons/groups/sanjana_lab/mdrabkin/gwas_data/raw/European/GCST007546_buildGRCh37.txt\n",
      "/gpfs/commons/groups/sanjana_lab/mdrabkin/gwas_data/raw/European/retrieved_positions\n",
      "/gpfs/commons/groups/sanjana_lab/mdrabkin/gwas_data/raw/European/GCST009602_buildGRCh37.txt\n",
      "/gpfs/commons/groups/sanjana_lab/mdrabkin/gwas_data/raw/European/GCST006909_buildGRCh37.tsv\n",
      "/gpfs/commons/groups/sanjana_lab/mdrabkin/gwas_data/raw/European/GCST004787_buildGRCh37.txt.gz\n",
      "/gpfs/commons/groups/sanjana_lab/mdrabkin/gwas_data/raw/European/GCST90301954_buildGRCh37.tsv\n",
      "/gpfs/commons/groups/sanjana_lab/mdrabkin/gwas_data/raw/European/GCST90044025_buildGRCh37.tsv.gz\n",
      "/gpfs/commons/groups/sanjana_lab/mdrabkin/gwas_data/raw/European/GCST006414_buildGRCh37.tbl.gz\n",
      "/gpfs/commons/groups/sanjana_lab/mdrabkin/gwas_data/raw/European/GCST90132314_buildGRCh37.tsv\n"
     ]
    },
    {
     "data": {
      "text/plain": [
       "69"
      ]
     },
     "execution_count": 38,
     "metadata": {},
     "output_type": "execute_result"
    }
   ],
   "source": [
    "directory_of_sumstats = '/gpfs/commons/groups/sanjana_lab/mdrabkin/gwas_data/raw/European' # YOUR INPUT PATH\n",
    "my_input_folder = glob.glob(directory_of_sumstats + '/*')\n",
    "\n",
    "for path in my_input_folder:\n",
    "    print(path)\n",
    "\n",
    "len(my_input_folder)"
   ]
  },
  {
   "cell_type": "markdown",
   "metadata": {},
   "source": [
    "## Run a MANUAL example or batch"
   ]
  },
  {
   "cell_type": "code",
   "execution_count": 41,
   "metadata": {},
   "outputs": [],
   "source": [
    "gemini_api_key = os.getenv('GEMINI_API_KEY')\n",
    "\n",
    "genai.configure(api_key = gemini_api_key)\n",
    "client = genai.GenerativeModel('gemini-pro')"
   ]
  },
  {
   "cell_type": "code",
   "execution_count": 40,
   "metadata": {},
   "outputs": [],
   "source": [
    "output_directory = '~' # YOUR OUTPUT PATH - Logs and outputs go here"
   ]
  },
  {
   "cell_type": "code",
   "execution_count": 47,
   "metadata": {},
   "outputs": [],
   "source": [
    "# Instantiate Preprocess class with your \n",
    " #   - GPT client\n",
    " #   - Directory where you want output files located\n",
    "\n",
    "ft = Preprocess(\n",
    "    client = client, \n",
    "    out_dir = output_directory\n",
    ")"
   ]
  },
  {
   "cell_type": "code",
   "execution_count": 42,
   "metadata": {},
   "outputs": [],
   "source": [
    "files = iter(my_input_folder) # ['/path/to/file1', '/path/to/file2', ...]"
   ]
  },
  {
   "cell_type": "code",
   "execution_count": 43,
   "metadata": {},
   "outputs": [
    {
     "data": {
      "text/plain": [
       "'/gpfs/commons/groups/sanjana_lab/mdrabkin/gwas_data/raw/European/GCST90000583_buildGRCh37.tsv'"
      ]
     },
     "execution_count": 43,
     "metadata": {},
     "output_type": "execute_result"
    }
   ],
   "source": [
    "fp = next(files) # '/path/to/file1'\n",
    "fp"
   ]
  },
  {
   "cell_type": "code",
   "execution_count": 48,
   "metadata": {},
   "outputs": [
    {
     "data": {
      "text/plain": [
       "['chromosome',\n",
       " 'base_pair_location',\n",
       " 'p_value',\n",
       " 'variant_id',\n",
       " 'effect_allele',\n",
       " 'other_allele']"
      ]
     },
     "execution_count": 48,
     "metadata": {},
     "output_type": "execute_result"
    }
   ],
   "source": [
    "ft.get_columns(fp)"
   ]
  },
  {
   "cell_type": "code",
   "execution_count": null,
   "metadata": {},
   "outputs": [],
   "source": [
    "ft.suggest_columns(fp) # uses GPT to suggest columns"
   ]
  },
  {
   "cell_type": "code",
   "execution_count": 50,
   "metadata": {},
   "outputs": [
    {
     "name": "stdout",
     "output_type": "stream",
     "text": [
      "['chromosome', 'base_pair_location', 'effect_allele', 'other_allele', 'beta', 'standard_error', 'p_value']\n"
     ]
    }
   ],
   "source": [
    "cols = ['chromosome',\n",
    " 'base_pair_location',\n",
    " 'effect_allele',\n",
    " 'other_allele',\n",
    " 'beta',\n",
    " 'standard_error',\n",
    " 'p_value']\n",
    "\n",
    "\n",
    "print(cols)"
   ]
  },
  {
   "cell_type": "code",
   "execution_count": null,
   "metadata": {},
   "outputs": [],
   "source": [
    "ft.loadmap_sumstats_table(path, manual_columns = cols, verbose = True)"
   ]
  },
  {
   "cell_type": "code",
   "execution_count": null,
   "metadata": {},
   "outputs": [],
   "source": [
    "ft.create_leadsnp_table(verbose = True)"
   ]
  },
  {
   "cell_type": "markdown",
   "metadata": {
    "jp-MarkdownHeadingCollapsed": true
   },
   "source": [
    "## Run an AUTOMATIC example"
   ]
  },
  {
   "cell_type": "code",
   "execution_count": 39,
   "metadata": {},
   "outputs": [],
   "source": [
    "output_directory = '~' # YOUR OUTPUT PATH"
   ]
  },
  {
   "cell_type": "code",
   "execution_count": null,
   "metadata": {},
   "outputs": [],
   "source": [
    "from preprocessing import Preprocess\n",
    "\n",
    "ft = Preprocess(\n",
    "    client=openai_client, \n",
    "    out_dir=output_directory\n",
    ")\n",
    "\n",
    "# optional parameters\n",
    "ft.significance_threshold = 5e-8 # default value is already 5e-8\n",
    "ft.ancestry = 'EUR' # default value is 'EUR' but can be statically\n",
    "# changed here or dynamically changed in the loop below.\n",
    "# Ancestry may play a role in GPT's selection of a column, e.g., say there\n",
    "# are two pval columns (1) pval_afr (2) pval_eur, then GPT will select\n",
    "# the column matching the ancestry variable set by user."
   ]
  },
  {
   "cell_type": "code",
   "execution_count": null,
   "metadata": {},
   "outputs": [],
   "source": [
    "fp = '/gpfs/commons/groups/sanjana_lab/mdrabkin/gwas_data/raw/European/GCST90104541_buildGRCh37.tsv.gz'"
   ]
  },
  {
   "cell_type": "code",
   "execution_count": null,
   "metadata": {},
   "outputs": [],
   "source": [
    "res = ft.loadmap_sumstats_table(\n",
    "    fp,\n",
    "    verbose=True)"
   ]
  },
  {
   "cell_type": "code",
   "execution_count": null,
   "metadata": {},
   "outputs": [],
   "source": [
    "ft.create_leadsnp_table(verbose=True)"
   ]
  },
  {
   "cell_type": "markdown",
   "metadata": {
    "jp-MarkdownHeadingCollapsed": true
   },
   "source": [
    "## Run a batch"
   ]
  },
  {
   "cell_type": "code",
   "execution_count": null,
   "metadata": {},
   "outputs": [],
   "source": [
    "for path in my_input_folder[::]:\n",
    "\n",
    "    print(f'==> {path}')\n",
    "\n",
    "    try:\n",
    "\n",
    "        res = ft.loadmap_sumstats_table(\n",
    "            path,\n",
    "            verbose=False)\n",
    "        \n",
    "        if res != 0:\n",
    "            continue\n",
    "\n",
    "        ft.create_leadsnp_table(verbose=False)\n",
    "\n",
    "    except:\n",
    "        print(\"SKIPPING due to error\")\n",
    "     "
   ]
  }
 ],
 "metadata": {
  "kernelspec": {
   "display_name": "Python 3 (ipykernel)",
   "language": "python",
   "name": "python3"
  },
  "language_info": {
   "codemirror_mode": {
    "name": "ipython",
    "version": 3
   },
   "file_extension": ".py",
   "mimetype": "text/x-python",
   "name": "python",
   "nbconvert_exporter": "python",
   "pygments_lexer": "ipython3",
   "version": "3.12.2"
  }
 },
 "nbformat": 4,
 "nbformat_minor": 4
}
